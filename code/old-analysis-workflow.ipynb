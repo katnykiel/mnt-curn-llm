{
 "cells": [
  {
   "attachments": {},
   "cell_type": "markdown",
   "metadata": {},
   "source": [
    "# Workflow\n",
    "## Jocelyn Zhu, Kat Nykiel"
   ]
  },
  {
   "cell_type": "code",
   "execution_count": null,
   "metadata": {},
   "outputs": [],
   "source": [
    "# Import required libraries\n",
    "import json\n",
    "import numpy as np\n",
    "import pandas as pd \n",
    "import plotly.graph_objects as go"
   ]
  },
  {
   "cell_type": "markdown",
   "metadata": {},
   "source": [
    "### Load Expert-Institution Pairs\n",
    "\n",
    "This `.csv` file contins the entity pairs obtained using named entity recognition, a type of natural language processing. This will work for now, but we will replace this file with a set of pairs obtained using LLMs."
   ]
  },
  {
   "cell_type": "code",
   "execution_count": null,
   "metadata": {},
   "outputs": [],
   "source": [
    "# Read the JSON file of expert pairs\n",
    "df = pd.read_csv('entity_pairs.csv',index_col=0) # Reads CSV file\n",
    "df.head()"
   ]
  },
  {
   "cell_type": "markdown",
   "metadata": {},
   "source": [
    "## Analyze the frequency at which each university is cited"
   ]
  },
  {
   "cell_type": "code",
   "execution_count": null,
   "metadata": {},
   "outputs": [],
   "source": [
    "# Count the number of unique institutions\n",
    "universities = df['Institution'].values\n",
    "unique_universities = list(set(universities))\n",
    "universities_counts = np.zeros(len(unique_universities))\n",
    "\n",
    "# Count the number of times each institution appears in the data\n",
    "for i, unique in enumerate(unique_universities):\n",
    "   count = 0\n",
    "   for j in range(len(universities)):\n",
    "       if (universities[j] == unique):\n",
    "           count += 1\n",
    "   universities_counts[i] = count\n",
    "\n",
    "# Display histogram of entity data\n",
    "fig = go.Figure()\n",
    "fig.add_trace(go.Histogram(x=universities_counts, hovertext = unique_universities))\n",
    "fig.update_layout(xaxis_title='Institutions',template='simple_white', yaxis_title='Count', width=600,height=400, title='Distribution of Academic Institutions')\n",
    "fig.show()"
   ]
  },
  {
   "cell_type": "code",
   "execution_count": null,
   "metadata": {},
   "outputs": [],
   "source": [
    "# Source: https://www.kaggle.com/datasets/theriley106/university-statistics?resource=download\n",
    "\n",
    "# File path\n",
    "file_path = \"schoolinfo.json\"\n",
    "\n",
    "# Open and read the JSON file\n",
    "with open(file_path, \"r\") as file:\n",
    "    json_data = json.load(file) # json.load() returns JSON data as a Python dictionary, which is stored in the 'data' object\n",
    "\n",
    "# Cross-referencing CSV and JSON files\n",
    "'''\n",
    "Source: https://pandas.pydata.org/docs/reference/api/pandas.DataFrame.value_counts.html\n",
    "Idea:\n",
    "    - Create a dataframe for json_data\n",
    "    - Use the Pandas merge() to merge the two DataFrame objects\n",
    "    - OR: Search through filtered_articles list and json_data dictionary\n",
    "    - .count() or .value_counts()\n",
    "'''\n",
    "\n",
    "# Creating DataFrame object for demographic data from the school, merging it with the entity pairs DataFrame\n",
    "demographic_df = pd.DataFrame.from_dict(json_data)\n",
    "merge_df = pd.merge(demographic_df, df, left_on='displayName', right_on='Institution')\n",
    "merge_df.head()\n"
   ]
  },
  {
   "cell_type": "markdown",
   "metadata": {},
   "source": [
    "## Analyze patterns in institutions from which experts are cited"
   ]
  },
  {
   "cell_type": "code",
   "execution_count": null,
   "metadata": {},
   "outputs": [],
   "source": [
    "# Histograms\n",
    "\n",
    "# Institutional Control\n",
    "fig = go.Figure()\n",
    "fig.add_trace(go.Histogram(x=merge_df['institutionalControl']))\n",
    "fig.update_layout(xaxis_title='Institutional Control',template='simple_white', yaxis_title='Count', width=600,height=400, title='Distribution of Institutional Control between Academic Institutions')\n",
    "fig.show()\n",
    "\n",
    "# Location\n",
    "fig = go.Figure()\n",
    "fig.add_trace(go.Histogram(x=merge_df['city']))\n",
    "fig.update_layout(xaxis_title='Location',template='simple_white', yaxis_title='Count', width=600,height=400, title='Distribution of Academic Institution Locations')\n",
    "fig.show()\n",
    "\n",
    "# SAT Averages\n",
    "fig = go.Figure()\n",
    "fig.add_trace(go.Histogram(x=merge_df['sat-avg']))\n",
    "fig.update_layout(xaxis_title='SAT averages',template='simple_white', yaxis_title='Count', width=600,height=400, title='Distribution of SAT Averages between Academic Institutions')\n",
    "fig.show()"
   ]
  },
  {
   "cell_type": "code",
   "execution_count": null,
   "metadata": {},
   "outputs": [],
   "source": [
    "# Plot histogram of university frequency, with separate traces for public and private universities\n",
    "# Separate public and private universities\n",
    "fig = go.Figure()\n",
    "for control in ['public','private']:\n",
    "\n",
    "    universities = merge_df[merge_df['institutionalControl'] == control]['Institution'].values\n",
    "\n",
    "    unique_universities = list(set(universities))\n",
    "    universities_counts = np.zeros(len(unique_universities))\n",
    "\n",
    "    for i, unique in enumerate(unique_universities):\n",
    "        count = 0\n",
    "        for j in range(len(universities)):\n",
    "            if (universities[j] == unique):\n",
    "                count += 1\n",
    "        universities_counts[i] = count\n",
    "\n",
    "    # Return a string of all universities at this count\n",
    "    hovertexts = []\n",
    "    for i in range(int(max(universities_counts+1))):\n",
    "        text = ''\n",
    "        for j,university in enumerate(unique_universities):\n",
    "            if (universities_counts[j] == i):\n",
    "                text += university + '<br>'\n",
    "        hovertexts.append(text)\n",
    "\n",
    "    n=5\n",
    "    binned_texts = [''.join(hovertexts[i:i+5]) for i in range(0, len(hovertexts), 5)]\n",
    "\n",
    "    # Display histogram of entity data\n",
    "    fig.add_trace(go.Histogram(x=universities_counts, hovertext = binned_texts,name=control))\n",
    "    \n",
    "fig.update_layout(xaxis_title='# of citiations',template='simple_white', yaxis_title='# of universities', width=800,height=600, title='Distribution of Academic Institutions',font=dict(size=16),hoverlabel=dict(font=dict(size=10)),legend=dict(x=.85,y=.2))\n",
    "fig.show()\n"
   ]
  },
  {
   "cell_type": "markdown",
   "metadata": {},
   "source": [
    "## Display the geographic distribution of expert institutions\n",
    "\n",
    "Here, we show two figures; the first a simple demo of this plotting method using population as marker size, and the second a set of markers indicating how often institutions from a given university are cited."
   ]
  },
  {
   "cell_type": "code",
   "execution_count": null,
   "metadata": {},
   "outputs": [],
   "source": [
    "import plotly.graph_objects as go\n",
    "import pandas as pd\n",
    "\n",
    "geo_df = pd.read_csv('https://raw.githubusercontent.com/plotly/datasets/master/2014_us_cities.csv')\n",
    "geo_df['name'] = geo_df['name'].str.strip()\n",
    "\n",
    "map_df = pd.merge(merge_df,geo_df,left_on='city',right_on='name')\n",
    "\n",
    "fig = go.Figure()\n",
    "\n",
    "scale=30000\n",
    "\n",
    "fig.add_trace(go.Scattergeo(\n",
    "    locationmode = 'USA-states',\n",
    "    lon = map_df['lon'],\n",
    "    lat = map_df['lat'],\n",
    "    marker = dict(\n",
    "            size = map_df['pop']/scale,\n",
    "            line_color='rgb(40,40,40)',\n",
    "            line_width=0.5,\n",
    "            sizemode = 'area'\n",
    "        ),\n",
    "        ))\n",
    "\n",
    "fig.update_layout(\n",
    "    geo = dict(\n",
    "        scope = 'usa',\n",
    "        landcolor = 'rgb(217, 217, 217)',\n",
    "    )\n",
    ")\n",
    "\n",
    "fig.show()"
   ]
  },
  {
   "cell_type": "code",
   "execution_count": null,
   "metadata": {},
   "outputs": [],
   "source": [
    "cities = map_df['city'].values\n",
    "\n",
    "unique_cities = list(set(cities))\n",
    "city_counts = np.zeros(len(unique_cities))\n",
    "\n",
    "for i, unique in enumerate(unique_cities):\n",
    "    count = 0\n",
    "    for j in range(len(cities)):\n",
    "        if (cities[j] == unique):\n",
    "            count += 1\n",
    "    city_counts[i] = count\n"
   ]
  },
  {
   "cell_type": "code",
   "execution_count": null,
   "metadata": {},
   "outputs": [],
   "source": [
    "city_count_df = pd.DataFrame({'city': unique_cities, 'count': city_counts})"
   ]
  },
  {
   "cell_type": "code",
   "execution_count": null,
   "metadata": {},
   "outputs": [],
   "source": [
    "# merge city_count_df with geo_df\n",
    "city_count_df = pd.merge(city_count_df, geo_df, left_on='city',right_on='name')\n",
    "city_count_df.head()"
   ]
  },
  {
   "cell_type": "code",
   "execution_count": null,
   "metadata": {},
   "outputs": [],
   "source": [
    "fig = go.Figure()\n",
    "\n",
    "fig.add_trace(go.Scattergeo(\n",
    "    locationmode = 'USA-states',\n",
    "    lon = city_count_df['lon'],\n",
    "    lat = city_count_df['lat'],\n",
    "    marker = dict(\n",
    "            size = city_count_df['count'],\n",
    "            line_color='rgb(40,40,40)',\n",
    "            line_width=0.5,\n",
    "            sizemode = 'area'\n",
    "        ),\n",
    "    text = city_count_df['city'],\n",
    "        ))\n",
    "\n",
    "fig.update_layout(\n",
    "    geo = dict(\n",
    "        scope = 'usa',\n",
    "        landcolor = 'rgb(217, 217, 217)',\n",
    "\n",
    "    ),\n",
    "    width=1000,\n",
    "    height=800,\n",
    "    template=\"simple_white\",\n",
    "    title_text = 'Expert Citations in News Articles by City',\n",
    ")\n",
    "\n",
    "fig.show()"
   ]
  }
 ],
 "metadata": {
  "kernelspec": {
   "display_name": "linguine",
   "language": "python",
   "name": "python3"
  },
  "language_info": {
   "codemirror_mode": {
    "name": "ipython",
    "version": 3
   },
   "file_extension": ".py",
   "mimetype": "text/x-python",
   "name": "python",
   "nbconvert_exporter": "python",
   "pygments_lexer": "ipython3",
   "version": "3.12.4"
  }
 },
 "nbformat": 4,
 "nbformat_minor": 2
}
